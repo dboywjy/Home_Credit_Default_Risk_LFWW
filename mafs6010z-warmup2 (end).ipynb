{
 "cells": [
  {
   "cell_type": "code",
   "execution_count": 1,
   "metadata": {},
   "outputs": [
    {
     "data": {
      "text/plain": [
       "'c:\\\\Users\\\\82438\\\\OneDrive - HKUST Connect\\\\23Fall\\\\MAFS6010Z_AI for Fintech\\\\warmup'"
      ]
     },
     "execution_count": 1,
     "metadata": {},
     "output_type": "execute_result"
    }
   ],
   "source": [
    "pwd"
   ]
  },
  {
   "cell_type": "code",
   "execution_count": 2,
   "metadata": {},
   "outputs": [
    {
     "name": "stdout",
     "output_type": "stream",
     "text": [
      "./home-credit-default-risk\\application_test.csv\n",
      "./home-credit-default-risk\\application_train.csv\n",
      "./home-credit-default-risk\\bureau.csv\n",
      "./home-credit-default-risk\\bureau_balance.csv\n",
      "./home-credit-default-risk\\credit_card_balance.csv\n",
      "./home-credit-default-risk\\HomeCredit_columns_description.csv\n",
      "./home-credit-default-risk\\installments_payments.csv\n",
      "./home-credit-default-risk\\POS_CASH_balance.csv\n",
      "./home-credit-default-risk\\previous_application.csv\n",
      "./home-credit-default-risk\\sample_submission.csv\n"
     ]
    }
   ],
   "source": [
    "import os\n",
    "for dirname, _, filenames in os.walk('./home-credit-default-risk'):\n",
    "    for filename in filenames:\n",
    "        print(os.path.join(dirname, filename))"
   ]
  },
  {
   "cell_type": "code",
   "execution_count": 3,
   "metadata": {
    "_cell_guid": "b1076dfc-b9ad-4769-8c92-a6c4dae69d19",
    "_uuid": "8f2839f25d086af736a60e9eeb907d3b93b6e0e5",
    "execution": {
     "iopub.execute_input": "2023-09-12T08:14:42.429331Z",
     "iopub.status.busy": "2023-09-12T08:14:42.428877Z",
     "iopub.status.idle": "2023-09-12T08:14:42.885920Z",
     "shell.execute_reply": "2023-09-12T08:14:42.884333Z",
     "shell.execute_reply.started": "2023-09-12T08:14:42.429286Z"
    }
   },
   "outputs": [],
   "source": [
    "import pandas as pd\n",
    "import numpy as np\n",
    "import matplotlib.pyplot as plt\n",
    "pd.reset_option(\"display.max_columns\", 200)\n",
    "pd.reset_option(\"display.max_rows\", 200)\n",
    "\n",
    "from tqdm import tqdm"
   ]
  },
  {
   "cell_type": "code",
   "execution_count": 4,
   "metadata": {
    "execution": {
     "iopub.execute_input": "2023-09-12T08:14:43.824025Z",
     "iopub.status.busy": "2023-09-12T08:14:43.823459Z",
     "iopub.status.idle": "2023-09-12T08:14:44.697610Z",
     "shell.execute_reply": "2023-09-12T08:14:44.696308Z",
     "shell.execute_reply.started": "2023-09-12T08:14:43.823989Z"
    }
   },
   "outputs": [],
   "source": [
    "from sklearn.model_selection import train_test_split"
   ]
  },
  {
   "cell_type": "code",
   "execution_count": 5,
   "metadata": {},
   "outputs": [
    {
     "name": "stdout",
     "output_type": "stream",
     "text": [
      "CPU: 8\n",
      "GPU： 1\n"
     ]
    }
   ],
   "source": [
    "import os\n",
    "import torch\n",
    "cpuCount = os.cpu_count()\n",
    "print(\"CPU:\", cpuCount)\n",
    "print('GPU：', torch.cuda.device_count())\n"
   ]
  },
  {
   "cell_type": "code",
   "execution_count": 6,
   "metadata": {
    "execution": {
     "iopub.execute_input": "2023-09-12T08:14:45.910428Z",
     "iopub.status.busy": "2023-09-12T08:14:45.909911Z",
     "iopub.status.idle": "2023-09-12T08:14:53.318845Z",
     "shell.execute_reply": "2023-09-12T08:14:53.317044Z",
     "shell.execute_reply.started": "2023-09-12T08:14:45.910387Z"
    }
   },
   "outputs": [],
   "source": [
    "applytrain = pd.read_csv(\"./home-credit-default-risk/application_train.csv\")\n",
    "applytest = pd.read_csv(\"./home-credit-default-risk/application_test.csv\")"
   ]
  },
  {
   "cell_type": "code",
   "execution_count": 7,
   "metadata": {
    "execution": {
     "iopub.execute_input": "2023-09-12T08:14:53.322392Z",
     "iopub.status.busy": "2023-09-12T08:14:53.321857Z",
     "iopub.status.idle": "2023-09-12T08:16:10.102462Z",
     "shell.execute_reply": "2023-09-12T08:16:10.100402Z",
     "shell.execute_reply.started": "2023-09-12T08:14:53.322348Z"
    }
   },
   "outputs": [
    {
     "name": "stderr",
     "output_type": "stream",
     "text": [
      "C:\\Users\\82438\\AppData\\Roaming\\Python\\Python37\\site-packages\\IPython\\core\\interactiveshell.py:3444: DtypeWarning: Columns (797,798,799,800,801,802,803,804,805,806,807,808,809,810,811,812) have mixed types.Specify dtype option on import or set low_memory=False.\n",
      "  exec(code_obj, self.user_global_ns, self.user_ns)\n"
     ]
    }
   ],
   "source": [
    "features = pd.read_csv(\"./output/features.csv\", index_col=0)"
   ]
  },
  {
   "cell_type": "code",
   "execution_count": 8,
   "metadata": {
    "execution": {
     "iopub.execute_input": "2023-09-12T08:16:10.106122Z",
     "iopub.status.busy": "2023-09-12T08:16:10.104841Z",
     "iopub.status.idle": "2023-09-12T08:16:10.232076Z",
     "shell.execute_reply": "2023-09-12T08:16:10.230634Z",
     "shell.execute_reply.started": "2023-09-12T08:16:10.106040Z"
    }
   },
   "outputs": [
    {
     "data": {
      "text/html": [
       "<div>\n",
       "<style scoped>\n",
       "    .dataframe tbody tr th:only-of-type {\n",
       "        vertical-align: middle;\n",
       "    }\n",
       "\n",
       "    .dataframe tbody tr th {\n",
       "        vertical-align: top;\n",
       "    }\n",
       "\n",
       "    .dataframe thead th {\n",
       "        text-align: right;\n",
       "    }\n",
       "</style>\n",
       "<table border=\"1\" class=\"dataframe\">\n",
       "  <thead>\n",
       "    <tr style=\"text-align: right;\">\n",
       "      <th></th>\n",
       "      <th>0</th>\n",
       "      <th>1</th>\n",
       "      <th>2</th>\n",
       "      <th>3</th>\n",
       "      <th>4</th>\n",
       "    </tr>\n",
       "  </thead>\n",
       "  <tbody>\n",
       "    <tr>\n",
       "      <th>SK_ID_CURR</th>\n",
       "      <td>100002</td>\n",
       "      <td>100003</td>\n",
       "      <td>100004</td>\n",
       "      <td>100006</td>\n",
       "      <td>100007</td>\n",
       "    </tr>\n",
       "    <tr>\n",
       "      <th>CNT_CHILDREN</th>\n",
       "      <td>0</td>\n",
       "      <td>0</td>\n",
       "      <td>0</td>\n",
       "      <td>0</td>\n",
       "      <td>0</td>\n",
       "    </tr>\n",
       "    <tr>\n",
       "      <th>AMT_INCOME_TOTAL</th>\n",
       "      <td>202500.0</td>\n",
       "      <td>270000.0</td>\n",
       "      <td>67500.0</td>\n",
       "      <td>135000.0</td>\n",
       "      <td>121500.0</td>\n",
       "    </tr>\n",
       "    <tr>\n",
       "      <th>AMT_CREDIT</th>\n",
       "      <td>406597.5</td>\n",
       "      <td>1293502.5</td>\n",
       "      <td>135000.0</td>\n",
       "      <td>312682.5</td>\n",
       "      <td>513000.0</td>\n",
       "    </tr>\n",
       "    <tr>\n",
       "      <th>AMT_ANNUITY</th>\n",
       "      <td>24700.5</td>\n",
       "      <td>35698.5</td>\n",
       "      <td>6750.0</td>\n",
       "      <td>29686.5</td>\n",
       "      <td>21865.5</td>\n",
       "    </tr>\n",
       "    <tr>\n",
       "      <th>...</th>\n",
       "      <td>...</td>\n",
       "      <td>...</td>\n",
       "      <td>...</td>\n",
       "      <td>...</td>\n",
       "      <td>...</td>\n",
       "    </tr>\n",
       "    <tr>\n",
       "      <th>ORGANIZATION_TYPE</th>\n",
       "      <td>NaN</td>\n",
       "      <td>NaN</td>\n",
       "      <td>NaN</td>\n",
       "      <td>NaN</td>\n",
       "      <td>NaN</td>\n",
       "    </tr>\n",
       "    <tr>\n",
       "      <th>FONDKAPREMONT_MODE</th>\n",
       "      <td>NaN</td>\n",
       "      <td>NaN</td>\n",
       "      <td>NaN</td>\n",
       "      <td>NaN</td>\n",
       "      <td>NaN</td>\n",
       "    </tr>\n",
       "    <tr>\n",
       "      <th>HOUSETYPE_MODE</th>\n",
       "      <td>NaN</td>\n",
       "      <td>NaN</td>\n",
       "      <td>NaN</td>\n",
       "      <td>NaN</td>\n",
       "      <td>NaN</td>\n",
       "    </tr>\n",
       "    <tr>\n",
       "      <th>WALLSMATERIAL_MODE</th>\n",
       "      <td>NaN</td>\n",
       "      <td>NaN</td>\n",
       "      <td>NaN</td>\n",
       "      <td>NaN</td>\n",
       "      <td>NaN</td>\n",
       "    </tr>\n",
       "    <tr>\n",
       "      <th>EMERGENCYSTATE_MODE</th>\n",
       "      <td>NaN</td>\n",
       "      <td>NaN</td>\n",
       "      <td>NaN</td>\n",
       "      <td>NaN</td>\n",
       "      <td>NaN</td>\n",
       "    </tr>\n",
       "  </tbody>\n",
       "</table>\n",
       "<p>812 rows × 5 columns</p>\n",
       "</div>"
      ],
      "text/plain": [
       "                            0          1         2         3         4\n",
       "SK_ID_CURR             100002     100003    100004    100006    100007\n",
       "CNT_CHILDREN                0          0         0         0         0\n",
       "AMT_INCOME_TOTAL     202500.0   270000.0   67500.0  135000.0  121500.0\n",
       "AMT_CREDIT           406597.5  1293502.5  135000.0  312682.5  513000.0\n",
       "AMT_ANNUITY           24700.5    35698.5    6750.0   29686.5   21865.5\n",
       "...                       ...        ...       ...       ...       ...\n",
       "ORGANIZATION_TYPE         NaN        NaN       NaN       NaN       NaN\n",
       "FONDKAPREMONT_MODE        NaN        NaN       NaN       NaN       NaN\n",
       "HOUSETYPE_MODE            NaN        NaN       NaN       NaN       NaN\n",
       "WALLSMATERIAL_MODE        NaN        NaN       NaN       NaN       NaN\n",
       "EMERGENCYSTATE_MODE       NaN        NaN       NaN       NaN       NaN\n",
       "\n",
       "[812 rows x 5 columns]"
      ]
     },
     "execution_count": 8,
     "metadata": {},
     "output_type": "execute_result"
    }
   ],
   "source": [
    "features.head().T"
   ]
  },
  {
   "cell_type": "code",
   "execution_count": 9,
   "metadata": {
    "execution": {
     "iopub.execute_input": "2023-09-12T08:16:34.467943Z",
     "iopub.status.busy": "2023-09-12T08:16:34.467464Z",
     "iopub.status.idle": "2023-09-12T08:16:35.564460Z",
     "shell.execute_reply": "2023-09-12T08:16:35.562600Z",
     "shell.execute_reply.started": "2023-09-12T08:16:34.467909Z"
    }
   },
   "outputs": [
    {
     "name": "stderr",
     "output_type": "stream",
     "text": [
      "  0%|          | 0/812 [00:00<?, ?it/s]100%|██████████| 812/812 [00:03<00:00, 258.56it/s]\n"
     ]
    }
   ],
   "source": [
    "missing_dict = {}\n",
    "for col in tqdm(features.columns):\n",
    "    missing_dict[col] = features[col].isnull().sum() / features.shape[0]"
   ]
  },
  {
   "cell_type": "markdown",
   "metadata": {},
   "source": [
    "### Data Cleaning"
   ]
  },
  {
   "cell_type": "markdown",
   "metadata": {},
   "source": [
    "#### delete those features whose missing rate over 90\\%"
   ]
  },
  {
   "cell_type": "code",
   "execution_count": 10,
   "metadata": {
    "execution": {
     "iopub.execute_input": "2023-09-12T08:16:45.405699Z",
     "iopub.status.busy": "2023-09-12T08:16:45.404634Z",
     "iopub.status.idle": "2023-09-12T08:16:45.413598Z",
     "shell.execute_reply": "2023-09-12T08:16:45.411816Z",
     "shell.execute_reply.started": "2023-09-12T08:16:45.405633Z"
    }
   },
   "outputs": [],
   "source": [
    "feacols = [col for col in missing_dict.keys() if missing_dict[col] <= 0.9]\n",
    "feacols.remove('SK_ID_CURR')"
   ]
  },
  {
   "cell_type": "code",
   "execution_count": 11,
   "metadata": {
    "execution": {
     "iopub.execute_input": "2023-09-12T08:16:48.997022Z",
     "iopub.status.busy": "2023-09-12T08:16:48.996618Z",
     "iopub.status.idle": "2023-09-12T08:16:49.005343Z",
     "shell.execute_reply": "2023-09-12T08:16:49.003633Z",
     "shell.execute_reply.started": "2023-09-12T08:16:48.996988Z"
    }
   },
   "outputs": [
    {
     "name": "stdout",
     "output_type": "stream",
     "text": [
      "删除前的特征数量:811\n",
      "删除后的特征数量:796\n"
     ]
    }
   ],
   "source": [
    "print(f'Number of features before deletion:{len(missing_dict.keys()) - 1}')\n",
    "print(f'Number of features after deletion:{len(feacols)}')"
   ]
  },
  {
   "cell_type": "code",
   "execution_count": null,
   "metadata": {},
   "outputs": [],
   "source": []
  },
  {
   "cell_type": "markdown",
   "metadata": {},
   "source": [
    "#### Split into train and test"
   ]
  },
  {
   "cell_type": "code",
   "execution_count": 12,
   "metadata": {
    "execution": {
     "iopub.execute_input": "2023-09-12T08:16:57.826087Z",
     "iopub.status.busy": "2023-09-12T08:16:57.825600Z",
     "iopub.status.idle": "2023-09-12T08:16:58.986623Z",
     "shell.execute_reply": "2023-09-12T08:16:58.985038Z",
     "shell.execute_reply.started": "2023-09-12T08:16:57.826042Z"
    }
   },
   "outputs": [
    {
     "name": "stdout",
     "output_type": "stream",
     "text": [
      "356255 356255\n",
      "(356255, 813)\n"
     ]
    }
   ],
   "source": [
    "print(features.shape[0], applytrain.shape[0]+applytest.shape[0])\n",
    "features = pd.merge(features, applytrain[['SK_ID_CURR', 'TARGET']], how='left', left_on=['SK_ID_CURR'], right_on=['SK_ID_CURR'])\n",
    "print(features.shape)"
   ]
  },
  {
   "cell_type": "code",
   "execution_count": 13,
   "metadata": {
    "execution": {
     "iopub.execute_input": "2023-09-12T08:16:59.708944Z",
     "iopub.status.busy": "2023-09-12T08:16:59.708214Z",
     "iopub.status.idle": "2023-09-12T08:16:59.722480Z",
     "shell.execute_reply": "2023-09-12T08:16:59.721159Z",
     "shell.execute_reply.started": "2023-09-12T08:16:59.708907Z"
    }
   },
   "outputs": [
    {
     "data": {
      "text/plain": [
       "0.0    282686\n",
       "NaN     48744\n",
       "1.0     24825\n",
       "Name: TARGET, dtype: int64"
      ]
     },
     "execution_count": 13,
     "metadata": {},
     "output_type": "execute_result"
    }
   ],
   "source": [
    "features['TARGET'].value_counts(dropna=False)"
   ]
  },
  {
   "cell_type": "code",
   "execution_count": 14,
   "metadata": {
    "execution": {
     "iopub.execute_input": "2023-09-12T08:17:03.646936Z",
     "iopub.status.busy": "2023-09-12T08:17:03.646529Z",
     "iopub.status.idle": "2023-09-12T08:17:03.655492Z",
     "shell.execute_reply": "2023-09-12T08:17:03.654160Z",
     "shell.execute_reply.started": "2023-09-12T08:17:03.646904Z"
    }
   },
   "outputs": [
    {
     "data": {
      "text/plain": [
       "(48744, 121)"
      ]
     },
     "execution_count": 14,
     "metadata": {},
     "output_type": "execute_result"
    }
   ],
   "source": [
    "applytest.shape\n",
    "## check over"
   ]
  },
  {
   "cell_type": "code",
   "execution_count": 15,
   "metadata": {
    "execution": {
     "iopub.execute_input": "2023-09-12T08:17:06.737838Z",
     "iopub.status.busy": "2023-09-12T08:17:06.736430Z",
     "iopub.status.idle": "2023-09-12T08:17:06.779423Z",
     "shell.execute_reply": "2023-09-12T08:17:06.777662Z",
     "shell.execute_reply.started": "2023-09-12T08:17:06.737780Z"
    }
   },
   "outputs": [],
   "source": [
    "del applytrain\n",
    "del applytest"
   ]
  },
  {
   "cell_type": "code",
   "execution_count": 16,
   "metadata": {
    "execution": {
     "iopub.execute_input": "2023-09-12T08:17:31.603728Z",
     "iopub.status.busy": "2023-09-12T08:17:31.603237Z",
     "iopub.status.idle": "2023-09-12T08:17:32.170399Z",
     "shell.execute_reply": "2023-09-12T08:17:32.169158Z",
     "shell.execute_reply.started": "2023-09-12T08:17:31.603693Z"
    }
   },
   "outputs": [
    {
     "name": "stderr",
     "output_type": "stream",
     "text": [
      " 99%|█████████▉| 788/796 [00:00<00:00, 2595.08it/s]"
     ]
    },
    {
     "name": "stdout",
     "output_type": "stream",
     "text": [
      "NAME_CONTRACT_TYPE\n",
      "CODE_GENDER\n",
      "FLAG_OWN_CAR\n",
      "FLAG_OWN_REALTY\n",
      "NAME_TYPE_SUITE\n",
      "NAME_INCOME_TYPE\n",
      "NAME_EDUCATION_TYPE\n",
      "NAME_FAMILY_STATUS\n"
     ]
    },
    {
     "name": "stderr",
     "output_type": "stream",
     "text": [
      "100%|██████████| 796/796 [00:00<00:00, 1399.12it/s]"
     ]
    },
    {
     "name": "stdout",
     "output_type": "stream",
     "text": [
      "NAME_HOUSING_TYPE\n",
      "WEEKDAY_APPR_PROCESS_START\n",
      "ORGANIZATION_TYPE\n"
     ]
    },
    {
     "name": "stderr",
     "output_type": "stream",
     "text": [
      "\n"
     ]
    }
   ],
   "source": [
    "strcols = []\n",
    "for col in tqdm(feacols):\n",
    "    if features[col].dtypes not in ['int64', 'float64']:\n",
    "        try:\n",
    "            features[col] = pd.to_numeric(features[col])\n",
    "        except Exception as e:\n",
    "            print(col)\n",
    "            strcols.append(col)"
   ]
  },
  {
   "cell_type": "code",
   "execution_count": 17,
   "metadata": {
    "execution": {
     "iopub.execute_input": "2023-09-12T08:18:14.843124Z",
     "iopub.status.busy": "2023-09-12T08:18:14.842653Z",
     "iopub.status.idle": "2023-09-12T08:18:14.850225Z",
     "shell.execute_reply": "2023-09-12T08:18:14.848342Z",
     "shell.execute_reply.started": "2023-09-12T08:18:14.843078Z"
    }
   },
   "outputs": [],
   "source": [
    "feacols = [col for col in feacols if col not in strcols]"
   ]
  },
  {
   "cell_type": "code",
   "execution_count": 18,
   "metadata": {
    "execution": {
     "iopub.execute_input": "2023-09-12T08:18:08.587577Z",
     "iopub.status.busy": "2023-09-12T08:18:08.587197Z",
     "iopub.status.idle": "2023-09-12T08:18:08.597354Z",
     "shell.execute_reply": "2023-09-12T08:18:08.595830Z",
     "shell.execute_reply.started": "2023-09-12T08:18:08.587546Z"
    }
   },
   "outputs": [
    {
     "data": {
      "text/plain": [
       "'__c'"
      ]
     },
     "execution_count": 18,
     "metadata": {},
     "output_type": "execute_result"
    }
   ],
   "source": [
    "def replace_nm(s, str1, str2):\n",
    "    for string in str1:\n",
    "        s = s.replace(string, str2)\n",
    "    return s\n",
    "replace_nm('abc', ['a', 'b'], '_')"
   ]
  },
  {
   "cell_type": "code",
   "execution_count": 19,
   "metadata": {
    "execution": {
     "iopub.execute_input": "2023-09-12T08:18:44.473180Z",
     "iopub.status.busy": "2023-09-12T08:18:44.472725Z",
     "iopub.status.idle": "2023-09-12T08:18:44.486000Z",
     "shell.execute_reply": "2023-09-12T08:18:44.484560Z",
     "shell.execute_reply.started": "2023-09-12T08:18:44.473147Z"
    }
   },
   "outputs": [],
   "source": [
    "features.rename(columns={col:replace_nm(col, ['(', ')', '.'], '_') for col in features.columns}, inplace=True)\n",
    "feacols = [replace_nm(col, ['(', ')', '.'], '_') for col in feacols]"
   ]
  },
  {
   "cell_type": "markdown",
   "metadata": {},
   "source": [
    "#### normalization\n",
    "Because we choose the tree model, we don’t need to do norm."
   ]
  },
  {
   "cell_type": "code",
   "execution_count": 20,
   "metadata": {},
   "outputs": [],
   "source": [
    "# from sklearn import preprocessing \n",
    "\n",
    "# features[feacols] = preprocessing.scale(features[feacols])"
   ]
  },
  {
   "cell_type": "markdown",
   "metadata": {},
   "source": [
    "#### fillna\n",
    "Because nan values may have unique meanings in actual application scenarios, they are not intended to be filled."
   ]
  },
  {
   "cell_type": "code",
   "execution_count": 21,
   "metadata": {},
   "outputs": [],
   "source": [
    "# features[feacols] = features[feacols].fillna(0)"
   ]
  },
  {
   "cell_type": "code",
   "execution_count": 20,
   "metadata": {
    "execution": {
     "iopub.execute_input": "2023-09-12T08:18:53.086329Z",
     "iopub.status.busy": "2023-09-12T08:18:53.085895Z",
     "iopub.status.idle": "2023-09-12T08:18:53.993856Z",
     "shell.execute_reply": "2023-09-12T08:18:53.992162Z",
     "shell.execute_reply.started": "2023-09-12T08:18:53.086294Z"
    }
   },
   "outputs": [
    {
     "name": "stdout",
     "output_type": "stream",
     "text": [
      "(307511, 813) (48744, 813)\n"
     ]
    }
   ],
   "source": [
    "X = features[(features['TARGET'].isnull() == False)]\n",
    "test = features[(features['TARGET'].isnull() == True)]\n",
    "print(X.shape, test.shape)"
   ]
  },
  {
   "cell_type": "code",
   "execution_count": null,
   "metadata": {},
   "outputs": [],
   "source": []
  },
  {
   "cell_type": "markdown",
   "metadata": {},
   "source": [
    "### choosing features"
   ]
  },
  {
   "cell_type": "code",
   "execution_count": 21,
   "metadata": {
    "execution": {
     "iopub.execute_input": "2023-09-12T08:19:00.128146Z",
     "iopub.status.busy": "2023-09-12T08:19:00.126613Z",
     "iopub.status.idle": "2023-09-12T08:19:00.142620Z",
     "shell.execute_reply": "2023-09-12T08:19:00.140995Z",
     "shell.execute_reply.started": "2023-09-12T08:19:00.128088Z"
    }
   },
   "outputs": [
    {
     "data": {
      "text/plain": [
       "0.0    0.919271\n",
       "1.0    0.080729\n",
       "Name: TARGET, dtype: float64"
      ]
     },
     "execution_count": 21,
     "metadata": {},
     "output_type": "execute_result"
    }
   ],
   "source": [
    "X['TARGET'].value_counts(normalize=True)"
   ]
  },
  {
   "cell_type": "code",
   "execution_count": 22,
   "metadata": {},
   "outputs": [
    {
     "data": {
      "text/plain": [
       "0.0    282686\n",
       "1.0     24825\n",
       "Name: TARGET, dtype: int64"
      ]
     },
     "execution_count": 22,
     "metadata": {},
     "output_type": "execute_result"
    }
   ],
   "source": [
    "X['TARGET'].value_counts(normalize=False)"
   ]
  },
  {
   "cell_type": "markdown",
   "metadata": {},
   "source": [
    "#### SMOTE\n",
    "SMOTE sampling was not used due to insufficient resources, so we chose to add the class_weight parameter to the model to weight each category in the training set and act on the loss function. This makes the model pay more attention to categories with a small number of samples. If there are many samples in a certain category, its weight will be low, otherwise its weight will be high."
   ]
  },
  {
   "cell_type": "code",
   "execution_count": 24,
   "metadata": {},
   "outputs": [],
   "source": [
    "# X = pd.concat([X[X['TARGET'] == 1], X[X['TARGET'] == 0].sample(50000, random_state=0)]) # 这个欠采样不选用"
   ]
  },
  {
   "cell_type": "code",
   "execution_count": 25,
   "metadata": {
    "execution": {
     "iopub.execute_input": "2023-09-12T08:19:06.582427Z",
     "iopub.status.busy": "2023-09-12T08:19:06.581952Z",
     "iopub.status.idle": "2023-09-12T08:19:13.779538Z",
     "shell.execute_reply": "2023-09-12T08:19:13.778026Z",
     "shell.execute_reply.started": "2023-09-12T08:19:06.582390Z"
    }
   },
   "outputs": [],
   "source": [
    "from sklearn.model_selection import train_test_split\n",
    "\n",
    "# train:test:dev = 8:1:1\n",
    "X_train, X_test, y_train, y_test = train_test_split(X[feacols], X['TARGET'], test_size=0.2, random_state=42)\n",
    "X_test, X_dev, y_test, y_dev = train_test_split(X[feacols], X['TARGET'], test_size=0.5, random_state=42)"
   ]
  },
  {
   "cell_type": "markdown",
   "metadata": {},
   "source": [
    "#### Compare which is faster with a CPU or a GPU"
   ]
  },
  {
   "cell_type": "code",
   "execution_count": 26,
   "metadata": {},
   "outputs": [
    {
     "data": {
      "text/plain": [
       "0.0    226132\n",
       "1.0     19876\n",
       "Name: TARGET, dtype: int64"
      ]
     },
     "execution_count": 26,
     "metadata": {},
     "output_type": "execute_result"
    }
   ],
   "source": [
    "y_train.value_counts()"
   ]
  },
  {
   "cell_type": "code",
   "execution_count": 27,
   "metadata": {
    "collapsed": true,
    "execution": {
     "iopub.execute_input": "2023-09-12T08:19:24.136703Z",
     "iopub.status.busy": "2023-09-12T08:19:24.135228Z",
     "iopub.status.idle": "2023-09-12T08:25:03.319685Z",
     "shell.execute_reply": "2023-09-12T08:25:03.318329Z",
     "shell.execute_reply.started": "2023-09-12T08:19:24.136636Z"
    },
    "jupyter": {
     "outputs_hidden": true
    }
   },
   "outputs": [
    {
     "name": "stdout",
     "output_type": "stream",
     "text": [
      "[LightGBM] [Warning] early_stopping_round is set=100, early_stopping=100 will be ignored. Current value: early_stopping_round=100\n",
      "[LightGBM] [Info] Number of positive: 19876, number of negative: 226132\n",
      "[LightGBM] [Info] Auto-choosing col-wise multi-threading, the overhead of testing was 2.182130 seconds.\n",
      "You can set `force_col_wise=true` to remove the overhead.\n",
      "[LightGBM] [Info] Total Bins 146681\n",
      "[LightGBM] [Info] Number of data points in the train set: 246008, number of used features: 779\n",
      "[LightGBM] [Warning] early_stopping_round is set=100, early_stopping=100 will be ignored. Current value: early_stopping_round=100\n",
      "[LightGBM] [Info] [binary:BoostFromScore]: pavg=0.500000 -> initscore=0.000000\n",
      "[LightGBM] [Info] Start training from score 0.000000\n",
      "Training until validation scores don't improve for 100 rounds\n",
      "Did not meet early stopping. Best iteration is:\n",
      "[500]\ttraining's rmse: 0.420386\ttraining's l1: 0.373136\ttraining's binary_logloss: 0.530191\tvalid_1's rmse: 0.421782\tvalid_1's l1: 0.372899\tvalid_1's binary_logloss: 0.532761\n",
      "Wall time: 2min 14s\n"
     ]
    },
    {
     "data": {
      "text/plain": [
       "LGBMClassifier(class_weight='balanced', early_stopping=100, learning_rate=0.05,\n",
       "               max_depth=5, n_estimators=500, n_jobs=8, num_leaves=11)"
      ]
     },
     "execution_count": 27,
     "metadata": {},
     "output_type": "execute_result"
    }
   ],
   "source": [
    "%%time\n",
    "from lightgbm import LGBMClassifier\n",
    "\n",
    "params = {'n_estimators':500\n",
    "         ,'early_stopping':100\n",
    "         ,'num_leaves': 11\n",
    "         ,'max_depth':5\n",
    "         ,'learning_rate':0.05\n",
    "         ,'n_jobs':8\n",
    "         ,'class_weight':'balanced'}\n",
    "\n",
    "lgb = LGBMClassifier(**params)\n",
    "lgb.fit(X_train, y_train, eval_metric=['rmse', 'mae'], eval_set=[(X_train, y_train), (X_test, y_test)])"
   ]
  },
  {
   "cell_type": "code",
   "execution_count": 29,
   "metadata": {},
   "outputs": [
    {
     "name": "stdout",
     "output_type": "stream",
     "text": [
      "[LightGBM] [Warning] early_stopping_round is set=100, early_stopping=100 will be ignored. Current value: early_stopping_round=100\n",
      "[LightGBM] [Info] Number of positive: 19876, number of negative: 226132\n",
      "[LightGBM] [Info] This is the GPU trainer!!\n",
      "[LightGBM] [Info] Total Bins 146681\n",
      "[LightGBM] [Info] Number of data points in the train set: 246008, number of used features: 779\n",
      "[LightGBM] [Info] Using GPU Device: Intel(R) UHD Graphics 630, Vendor: Intel(R) Corporation\n",
      "[LightGBM] [Info] Compiling OpenCL Kernel with 256 bins...\n",
      "[LightGBM] [Info] GPU programs have been built\n",
      "[LightGBM] [Info] Size of histogram bin entry: 8\n",
      "[LightGBM] [Info] 500 dense feature groups (117.31 MB) transferred to GPU in 0.099426 secs. 1 sparse feature groups\n",
      "[LightGBM] [Warning] early_stopping_round is set=100, early_stopping=100 will be ignored. Current value: early_stopping_round=100\n",
      "[LightGBM] [Info] [binary:BoostFromScore]: pavg=0.500000 -> initscore=0.000000\n",
      "[LightGBM] [Info] Start training from score 0.000000\n",
      "Training until validation scores don't improve for 100 rounds\n",
      "Did not meet early stopping. Best iteration is:\n",
      "[500]\ttraining's rmse: 0.420555\ttraining's l1: 0.373145\ttraining's binary_logloss: 0.53045\tvalid_1's rmse: 0.422031\tvalid_1's l1: 0.372951\tvalid_1's binary_logloss: 0.53318\n",
      "Wall time: 3min 48s\n"
     ]
    },
    {
     "data": {
      "text/plain": [
       "LGBMClassifier(class_weight='balanced', device='gpu', early_stopping=100,\n",
       "               gpu_device_id=0, learning_rate=0.05, max_depth=5,\n",
       "               n_estimators=500, num_leaves=11)"
      ]
     },
     "execution_count": 29,
     "metadata": {},
     "output_type": "execute_result"
    }
   ],
   "source": [
    "%%time\n",
    "from lightgbm import LGBMClassifier\n",
    "\n",
    "params = {'n_estimators':500\n",
    "         ,'early_stopping':100\n",
    "         ,'num_leaves': 11\n",
    "         ,'max_depth':5\n",
    "         ,'learning_rate':0.05\n",
    "         ,'device':'gpu'\n",
    "         ,'gpu_device_id':0\n",
    "         ,'class_weight':'balanced'\n",
    "         }\n",
    "\n",
    "lgb = LGBMClassifier(**params)\n",
    "lgb.fit(X_train, y_train, eval_metric=['rmse', 'mae'], eval_set=[(X_train, y_train), (X_test, y_test)])"
   ]
  },
  {
   "cell_type": "markdown",
   "metadata": {},
   "source": [
    "#### find out that gpu-lightgbm is no faster than CPU"
   ]
  },
  {
   "cell_type": "markdown",
   "metadata": {},
   "source": [
    "### Screening Characteristics"
   ]
  },
  {
   "cell_type": "markdown",
   "metadata": {},
   "source": [
    "#### find features who are important"
   ]
  },
  {
   "cell_type": "code",
   "execution_count": 30,
   "metadata": {
    "execution": {
     "iopub.execute_input": "2023-09-12T08:25:07.004822Z",
     "iopub.status.busy": "2023-09-12T08:25:07.004335Z",
     "iopub.status.idle": "2023-09-12T08:25:07.035715Z",
     "shell.execute_reply": "2023-09-12T08:25:07.033741Z",
     "shell.execute_reply.started": "2023-09-12T08:25:07.004781Z"
    }
   },
   "outputs": [
    {
     "data": {
      "text/html": [
       "<div>\n",
       "<style scoped>\n",
       "    .dataframe tbody tr th:only-of-type {\n",
       "        vertical-align: middle;\n",
       "    }\n",
       "\n",
       "    .dataframe tbody tr th {\n",
       "        vertical-align: top;\n",
       "    }\n",
       "\n",
       "    .dataframe thead th {\n",
       "        text-align: right;\n",
       "    }\n",
       "</style>\n",
       "<table border=\"1\" class=\"dataframe\">\n",
       "  <thead>\n",
       "    <tr style=\"text-align: right;\">\n",
       "      <th></th>\n",
       "      <th>im</th>\n",
       "    </tr>\n",
       "  </thead>\n",
       "  <tbody>\n",
       "    <tr>\n",
       "      <th>EXT_SOURCE_1</th>\n",
       "      <td>210</td>\n",
       "    </tr>\n",
       "    <tr>\n",
       "      <th>EXT_SOURCE_2</th>\n",
       "      <td>174</td>\n",
       "    </tr>\n",
       "    <tr>\n",
       "      <th>EXT_SOURCE_3</th>\n",
       "      <td>164</td>\n",
       "    </tr>\n",
       "    <tr>\n",
       "      <th>AMT_CREDIT</th>\n",
       "      <td>118</td>\n",
       "    </tr>\n",
       "    <tr>\n",
       "      <th>AMT_ANNUITY</th>\n",
       "      <td>107</td>\n",
       "    </tr>\n",
       "    <tr>\n",
       "      <th>...</th>\n",
       "      <td>...</td>\n",
       "    </tr>\n",
       "    <tr>\n",
       "      <th>FLAG_DOCUMENT_13</th>\n",
       "      <td>6</td>\n",
       "    </tr>\n",
       "    <tr>\n",
       "      <th>MEAN_bureau_SKEW_Bureau_balance_STATUS_invsd__</th>\n",
       "      <td>6</td>\n",
       "    </tr>\n",
       "    <tr>\n",
       "      <th>MIN_POS_CASH_balance_CNT_INSTALMENT_</th>\n",
       "      <td>6</td>\n",
       "    </tr>\n",
       "    <tr>\n",
       "      <th>MAX_Bureau_balance_bureau_DAYS_CREDIT_ENDDATE_</th>\n",
       "      <td>6</td>\n",
       "    </tr>\n",
       "    <tr>\n",
       "      <th>MIN_credit_card_balance_AMT_RECIVABLE_</th>\n",
       "      <td>6</td>\n",
       "    </tr>\n",
       "  </tbody>\n",
       "</table>\n",
       "<p>200 rows × 1 columns</p>\n",
       "</div>"
      ],
      "text/plain": [
       "                                                 im\n",
       "EXT_SOURCE_1                                    210\n",
       "EXT_SOURCE_2                                    174\n",
       "EXT_SOURCE_3                                    164\n",
       "AMT_CREDIT                                      118\n",
       "AMT_ANNUITY                                     107\n",
       "...                                             ...\n",
       "FLAG_DOCUMENT_13                                  6\n",
       "MEAN_bureau_SKEW_Bureau_balance_STATUS_invsd__    6\n",
       "MIN_POS_CASH_balance_CNT_INSTALMENT_              6\n",
       "MAX_Bureau_balance_bureau_DAYS_CREDIT_ENDDATE_    6\n",
       "MIN_credit_card_balance_AMT_RECIVABLE_            6\n",
       "\n",
       "[200 rows x 1 columns]"
      ]
     },
     "execution_count": 30,
     "metadata": {},
     "output_type": "execute_result"
    }
   ],
   "source": [
    "IM = pd.DataFrame().from_dict(dict(zip(feacols, lgb.feature_importances_)), orient='index', columns=['im']).sort_values(by=['im'], ascending=False)\n",
    "IM.head(200)"
   ]
  },
  {
   "cell_type": "code",
   "execution_count": 31,
   "metadata": {
    "execution": {
     "iopub.execute_input": "2023-09-12T08:25:58.266799Z",
     "iopub.status.busy": "2023-09-12T08:25:58.266377Z",
     "iopub.status.idle": "2023-09-12T08:25:58.277896Z",
     "shell.execute_reply": "2023-09-12T08:25:58.276279Z",
     "shell.execute_reply.started": "2023-09-12T08:25:58.266761Z"
    }
   },
   "outputs": [
    {
     "data": {
      "text/plain": [
       "((785, 1), (578, 1))"
      ]
     },
     "execution_count": 31,
     "metadata": {},
     "output_type": "execute_result"
    }
   ],
   "source": [
    "IM.shape, IM[(IM['im'] > 0)].shape"
   ]
  },
  {
   "cell_type": "code",
   "execution_count": 32,
   "metadata": {
    "execution": {
     "iopub.execute_input": "2023-09-12T08:26:01.350912Z",
     "iopub.status.busy": "2023-09-12T08:26:01.350391Z",
     "iopub.status.idle": "2023-09-12T08:26:01.360541Z",
     "shell.execute_reply": "2023-09-12T08:26:01.357979Z",
     "shell.execute_reply.started": "2023-09-12T08:26:01.350874Z"
    }
   },
   "outputs": [],
   "source": [
    "feacols2 = list(IM[(IM['im'] > 0)].index)"
   ]
  },
  {
   "cell_type": "code",
   "execution_count": 33,
   "metadata": {
    "execution": {
     "iopub.execute_input": "2023-09-12T08:30:46.121360Z",
     "iopub.status.busy": "2023-09-12T08:30:46.119862Z",
     "iopub.status.idle": "2023-09-12T08:30:46.136877Z",
     "shell.execute_reply": "2023-09-12T08:30:46.135166Z",
     "shell.execute_reply.started": "2023-09-12T08:30:46.121311Z"
    }
   },
   "outputs": [
    {
     "data": {
      "text/plain": [
       "['./feacols2.pkl']"
      ]
     },
     "execution_count": 33,
     "metadata": {},
     "output_type": "execute_result"
    }
   ],
   "source": [
    "import joblib\n",
    "# Save incoming variables\n",
    "joblib.dump(feacols2, \"./feacols2.pkl\")"
   ]
  },
  {
   "cell_type": "markdown",
   "metadata": {},
   "source": [
    "#### Grid search to find the best parameters"
   ]
  },
  {
   "cell_type": "code",
   "execution_count": 34,
   "metadata": {
    "execution": {
     "iopub.execute_input": "2023-09-12T08:31:26.039023Z",
     "iopub.status.busy": "2023-09-12T08:31:26.038533Z"
    }
   },
   "outputs": [
    {
     "name": "stdout",
     "output_type": "stream",
     "text": [
      "[LightGBM] [Info] Number of positive: 15901, number of negative: 180905\n",
      "[LightGBM] [Info] Auto-choosing col-wise multi-threading, the overhead of testing was 1.569761 seconds.\n",
      "You can set `force_col_wise=true` to remove the overhead.\n",
      "[LightGBM] [Info] Total Bins 125958\n",
      "[LightGBM] [Info] Number of data points in the train set: 196806, number of used features: 578\n",
      "[LightGBM] [Info] [binary:BoostFromScore]: pavg=0.500000 -> initscore=0.000000\n",
      "[LightGBM] [Info] Start training from score 0.000000\n",
      "[LightGBM] [Info] Number of positive: 15901, number of negative: 180905\n",
      "[LightGBM] [Info] Auto-choosing col-wise multi-threading, the overhead of testing was 1.282475 seconds.\n",
      "You can set `force_col_wise=true` to remove the overhead.\n",
      "[LightGBM] [Info] Total Bins 125819\n",
      "[LightGBM] [Info] Number of data points in the train set: 196806, number of used features: 578\n",
      "[LightGBM] [Info] [binary:BoostFromScore]: pavg=0.500000 -> initscore=0.000000\n",
      "[LightGBM] [Info] Start training from score 0.000000\n",
      "[LightGBM] [Info] Number of positive: 15900, number of negative: 180906\n",
      "[LightGBM] [Info] Auto-choosing col-wise multi-threading, the overhead of testing was 1.272473 seconds.\n",
      "You can set `force_col_wise=true` to remove the overhead.\n",
      "[LightGBM] [Info] Total Bins 125921\n",
      "[LightGBM] [Info] Number of data points in the train set: 196806, number of used features: 578\n",
      "[LightGBM] [Info] [binary:BoostFromScore]: pavg=0.500000 -> initscore=-0.000000\n",
      "[LightGBM] [Info] Start training from score -0.000000\n",
      "[LightGBM] [Info] Number of positive: 15901, number of negative: 180906\n",
      "[LightGBM] [Info] Auto-choosing col-wise multi-threading, the overhead of testing was 1.318514 seconds.\n",
      "You can set `force_col_wise=true` to remove the overhead.\n",
      "[LightGBM] [Info] Total Bins 125890\n",
      "[LightGBM] [Info] Number of data points in the train set: 196807, number of used features: 578\n",
      "[LightGBM] [Info] [binary:BoostFromScore]: pavg=0.500000 -> initscore=-0.000000\n",
      "[LightGBM] [Info] Start training from score -0.000000\n",
      "[LightGBM] [Info] Number of positive: 15901, number of negative: 180906\n",
      "[LightGBM] [Info] Auto-choosing col-wise multi-threading, the overhead of testing was 1.335063 seconds.\n",
      "You can set `force_col_wise=true` to remove the overhead.\n",
      "[LightGBM] [Info] Total Bins 125996\n",
      "[LightGBM] [Info] Number of data points in the train set: 196807, number of used features: 578\n",
      "[LightGBM] [Info] [binary:BoostFromScore]: pavg=0.500000 -> initscore=-0.000000\n",
      "[LightGBM] [Info] Start training from score -0.000000\n",
      "[LightGBM] [Info] Number of positive: 15901, number of negative: 180905\n",
      "[LightGBM] [Info] Auto-choosing col-wise multi-threading, the overhead of testing was 1.323725 seconds.\n",
      "You can set `force_col_wise=true` to remove the overhead.\n",
      "[LightGBM] [Info] Total Bins 125958\n",
      "[LightGBM] [Info] Number of data points in the train set: 196806, number of used features: 578\n",
      "[LightGBM] [Info] [binary:BoostFromScore]: pavg=0.500000 -> initscore=0.000000\n",
      "[LightGBM] [Info] Start training from score 0.000000\n",
      "[LightGBM] [Info] Number of positive: 15901, number of negative: 180905\n",
      "[LightGBM] [Info] Auto-choosing col-wise multi-threading, the overhead of testing was 1.252152 seconds.\n",
      "You can set `force_col_wise=true` to remove the overhead.\n",
      "[LightGBM] [Info] Total Bins 125819\n",
      "[LightGBM] [Info] Number of data points in the train set: 196806, number of used features: 578\n",
      "[LightGBM] [Info] [binary:BoostFromScore]: pavg=0.500000 -> initscore=0.000000\n",
      "[LightGBM] [Info] Start training from score 0.000000\n",
      "[LightGBM] [Info] Number of positive: 15900, number of negative: 180906\n",
      "[LightGBM] [Info] Auto-choosing col-wise multi-threading, the overhead of testing was 1.248351 seconds.\n",
      "You can set `force_col_wise=true` to remove the overhead.\n",
      "[LightGBM] [Info] Total Bins 125921\n",
      "[LightGBM] [Info] Number of data points in the train set: 196806, number of used features: 578\n",
      "[LightGBM] [Info] [binary:BoostFromScore]: pavg=0.500000 -> initscore=-0.000000\n",
      "[LightGBM] [Info] Start training from score -0.000000\n",
      "[LightGBM] [Info] Number of positive: 15901, number of negative: 180906\n",
      "[LightGBM] [Info] Auto-choosing col-wise multi-threading, the overhead of testing was 1.251525 seconds.\n",
      "You can set `force_col_wise=true` to remove the overhead.\n",
      "[LightGBM] [Info] Total Bins 125890\n",
      "[LightGBM] [Info] Number of data points in the train set: 196807, number of used features: 578\n",
      "[LightGBM] [Info] [binary:BoostFromScore]: pavg=0.500000 -> initscore=-0.000000\n",
      "[LightGBM] [Info] Start training from score -0.000000\n",
      "[LightGBM] [Info] Number of positive: 15901, number of negative: 180906\n",
      "[LightGBM] [Info] Auto-choosing col-wise multi-threading, the overhead of testing was 1.218838 seconds.\n",
      "You can set `force_col_wise=true` to remove the overhead.\n",
      "[LightGBM] [Info] Total Bins 125996\n",
      "[LightGBM] [Info] Number of data points in the train set: 196807, number of used features: 578\n",
      "[LightGBM] [Info] [binary:BoostFromScore]: pavg=0.500000 -> initscore=-0.000000\n",
      "[LightGBM] [Info] Start training from score -0.000000\n",
      "[LightGBM] [Info] Number of positive: 15901, number of negative: 180905\n",
      "[LightGBM] [Info] Auto-choosing col-wise multi-threading, the overhead of testing was 1.294954 seconds.\n",
      "You can set `force_col_wise=true` to remove the overhead.\n",
      "[LightGBM] [Info] Total Bins 125958\n",
      "[LightGBM] [Info] Number of data points in the train set: 196806, number of used features: 578\n",
      "[LightGBM] [Info] [binary:BoostFromScore]: pavg=0.500000 -> initscore=0.000000\n",
      "[LightGBM] [Info] Start training from score 0.000000\n",
      "[LightGBM] [Info] Number of positive: 15901, number of negative: 180905\n",
      "[LightGBM] [Info] Auto-choosing col-wise multi-threading, the overhead of testing was 1.315668 seconds.\n",
      "You can set `force_col_wise=true` to remove the overhead.\n",
      "[LightGBM] [Info] Total Bins 125819\n",
      "[LightGBM] [Info] Number of data points in the train set: 196806, number of used features: 578\n",
      "[LightGBM] [Info] [binary:BoostFromScore]: pavg=0.500000 -> initscore=0.000000\n",
      "[LightGBM] [Info] Start training from score 0.000000\n",
      "[LightGBM] [Info] Number of positive: 15900, number of negative: 180906\n",
      "[LightGBM] [Info] Auto-choosing col-wise multi-threading, the overhead of testing was 1.235985 seconds.\n",
      "You can set `force_col_wise=true` to remove the overhead.\n",
      "[LightGBM] [Info] Total Bins 125921\n",
      "[LightGBM] [Info] Number of data points in the train set: 196806, number of used features: 578\n",
      "[LightGBM] [Info] [binary:BoostFromScore]: pavg=0.500000 -> initscore=-0.000000\n",
      "[LightGBM] [Info] Start training from score -0.000000\n",
      "[LightGBM] [Info] Number of positive: 15901, number of negative: 180906\n",
      "[LightGBM] [Info] Auto-choosing col-wise multi-threading, the overhead of testing was 1.394235 seconds.\n",
      "You can set `force_col_wise=true` to remove the overhead.\n",
      "[LightGBM] [Info] Total Bins 125890\n",
      "[LightGBM] [Info] Number of data points in the train set: 196807, number of used features: 578\n",
      "[LightGBM] [Info] [binary:BoostFromScore]: pavg=0.500000 -> initscore=-0.000000\n",
      "[LightGBM] [Info] Start training from score -0.000000\n",
      "[LightGBM] [Info] Number of positive: 15901, number of negative: 180906\n",
      "[LightGBM] [Info] Auto-choosing col-wise multi-threading, the overhead of testing was 1.318040 seconds.\n",
      "You can set `force_col_wise=true` to remove the overhead.\n",
      "[LightGBM] [Info] Total Bins 125996\n",
      "[LightGBM] [Info] Number of data points in the train set: 196807, number of used features: 578\n",
      "[LightGBM] [Info] [binary:BoostFromScore]: pavg=0.500000 -> initscore=-0.000000\n",
      "[LightGBM] [Info] Start training from score -0.000000\n",
      "[LightGBM] [Info] Number of positive: 15901, number of negative: 180905\n",
      "[LightGBM] [Info] Auto-choosing col-wise multi-threading, the overhead of testing was 1.275970 seconds.\n",
      "You can set `force_col_wise=true` to remove the overhead.\n",
      "[LightGBM] [Info] Total Bins 125958\n",
      "[LightGBM] [Info] Number of data points in the train set: 196806, number of used features: 578\n",
      "[LightGBM] [Info] [binary:BoostFromScore]: pavg=0.500000 -> initscore=0.000000\n",
      "[LightGBM] [Info] Start training from score 0.000000\n",
      "[LightGBM] [Info] Number of positive: 15901, number of negative: 180905\n",
      "[LightGBM] [Info] Auto-choosing col-wise multi-threading, the overhead of testing was 1.224114 seconds.\n",
      "You can set `force_col_wise=true` to remove the overhead.\n",
      "[LightGBM] [Info] Total Bins 125819\n",
      "[LightGBM] [Info] Number of data points in the train set: 196806, number of used features: 578\n",
      "[LightGBM] [Info] [binary:BoostFromScore]: pavg=0.500000 -> initscore=0.000000\n",
      "[LightGBM] [Info] Start training from score 0.000000\n",
      "[LightGBM] [Info] Number of positive: 15900, number of negative: 180906\n",
      "[LightGBM] [Info] Auto-choosing col-wise multi-threading, the overhead of testing was 1.454070 seconds.\n",
      "You can set `force_col_wise=true` to remove the overhead.\n",
      "[LightGBM] [Info] Total Bins 125921\n",
      "[LightGBM] [Info] Number of data points in the train set: 196806, number of used features: 578\n",
      "[LightGBM] [Info] [binary:BoostFromScore]: pavg=0.500000 -> initscore=-0.000000\n",
      "[LightGBM] [Info] Start training from score -0.000000\n",
      "[LightGBM] [Info] Number of positive: 15901, number of negative: 180906\n",
      "[LightGBM] [Info] Auto-choosing col-wise multi-threading, the overhead of testing was 1.306144 seconds.\n",
      "You can set `force_col_wise=true` to remove the overhead.\n",
      "[LightGBM] [Info] Total Bins 125890\n",
      "[LightGBM] [Info] Number of data points in the train set: 196807, number of used features: 578\n",
      "[LightGBM] [Info] [binary:BoostFromScore]: pavg=0.500000 -> initscore=-0.000000\n",
      "[LightGBM] [Info] Start training from score -0.000000\n",
      "[LightGBM] [Info] Number of positive: 15901, number of negative: 180906\n",
      "[LightGBM] [Info] Auto-choosing col-wise multi-threading, the overhead of testing was 1.175787 seconds.\n",
      "You can set `force_col_wise=true` to remove the overhead.\n",
      "[LightGBM] [Info] Total Bins 125996\n",
      "[LightGBM] [Info] Number of data points in the train set: 196807, number of used features: 578\n",
      "[LightGBM] [Info] [binary:BoostFromScore]: pavg=0.500000 -> initscore=-0.000000\n",
      "[LightGBM] [Info] Start training from score -0.000000\n",
      "[LightGBM] [Info] Number of positive: 15901, number of negative: 180905\n",
      "[LightGBM] [Info] Auto-choosing col-wise multi-threading, the overhead of testing was 1.272476 seconds.\n",
      "You can set `force_col_wise=true` to remove the overhead.\n",
      "[LightGBM] [Info] Total Bins 125958\n",
      "[LightGBM] [Info] Number of data points in the train set: 196806, number of used features: 578\n",
      "[LightGBM] [Info] [binary:BoostFromScore]: pavg=0.500000 -> initscore=0.000000\n",
      "[LightGBM] [Info] Start training from score 0.000000\n",
      "[LightGBM] [Info] Number of positive: 15901, number of negative: 180905\n",
      "[LightGBM] [Info] Auto-choosing col-wise multi-threading, the overhead of testing was 1.197046 seconds.\n",
      "You can set `force_col_wise=true` to remove the overhead.\n",
      "[LightGBM] [Info] Total Bins 125819\n",
      "[LightGBM] [Info] Number of data points in the train set: 196806, number of used features: 578\n",
      "[LightGBM] [Info] [binary:BoostFromScore]: pavg=0.500000 -> initscore=0.000000\n",
      "[LightGBM] [Info] Start training from score 0.000000\n",
      "[LightGBM] [Info] Number of positive: 15900, number of negative: 180906\n",
      "[LightGBM] [Info] Auto-choosing col-wise multi-threading, the overhead of testing was 1.266508 seconds.\n",
      "You can set `force_col_wise=true` to remove the overhead.\n",
      "[LightGBM] [Info] Total Bins 125921\n",
      "[LightGBM] [Info] Number of data points in the train set: 196806, number of used features: 578\n",
      "[LightGBM] [Info] [binary:BoostFromScore]: pavg=0.500000 -> initscore=-0.000000\n",
      "[LightGBM] [Info] Start training from score -0.000000\n",
      "[LightGBM] [Info] Number of positive: 15901, number of negative: 180906\n",
      "[LightGBM] [Info] Auto-choosing col-wise multi-threading, the overhead of testing was 1.230637 seconds.\n",
      "You can set `force_col_wise=true` to remove the overhead.\n",
      "[LightGBM] [Info] Total Bins 125890\n",
      "[LightGBM] [Info] Number of data points in the train set: 196807, number of used features: 578\n",
      "[LightGBM] [Info] [binary:BoostFromScore]: pavg=0.500000 -> initscore=-0.000000\n",
      "[LightGBM] [Info] Start training from score -0.000000\n",
      "[LightGBM] [Info] Number of positive: 15901, number of negative: 180906\n",
      "[LightGBM] [Info] Auto-choosing col-wise multi-threading, the overhead of testing was 1.285316 seconds.\n",
      "You can set `force_col_wise=true` to remove the overhead.\n",
      "[LightGBM] [Info] Total Bins 125996\n",
      "[LightGBM] [Info] Number of data points in the train set: 196807, number of used features: 578\n",
      "[LightGBM] [Info] [binary:BoostFromScore]: pavg=0.500000 -> initscore=-0.000000\n",
      "[LightGBM] [Info] Start training from score -0.000000\n",
      "[LightGBM] [Info] Number of positive: 15901, number of negative: 180905\n",
      "[LightGBM] [Info] Auto-choosing col-wise multi-threading, the overhead of testing was 1.124872 seconds.\n",
      "You can set `force_col_wise=true` to remove the overhead.\n",
      "[LightGBM] [Info] Total Bins 125958\n",
      "[LightGBM] [Info] Number of data points in the train set: 196806, number of used features: 578\n",
      "[LightGBM] [Info] [binary:BoostFromScore]: pavg=0.500000 -> initscore=0.000000\n",
      "[LightGBM] [Info] Start training from score 0.000000\n",
      "[LightGBM] [Info] Number of positive: 15901, number of negative: 180905\n",
      "[LightGBM] [Info] Auto-choosing col-wise multi-threading, the overhead of testing was 1.243290 seconds.\n",
      "You can set `force_col_wise=true` to remove the overhead.\n",
      "[LightGBM] [Info] Total Bins 125819\n",
      "[LightGBM] [Info] Number of data points in the train set: 196806, number of used features: 578\n",
      "[LightGBM] [Info] [binary:BoostFromScore]: pavg=0.500000 -> initscore=0.000000\n",
      "[LightGBM] [Info] Start training from score 0.000000\n",
      "[LightGBM] [Info] Number of positive: 15900, number of negative: 180906\n",
      "[LightGBM] [Info] Auto-choosing col-wise multi-threading, the overhead of testing was 1.184044 seconds.\n",
      "You can set `force_col_wise=true` to remove the overhead.\n",
      "[LightGBM] [Info] Total Bins 125921\n",
      "[LightGBM] [Info] Number of data points in the train set: 196806, number of used features: 578\n",
      "[LightGBM] [Info] [binary:BoostFromScore]: pavg=0.500000 -> initscore=-0.000000\n",
      "[LightGBM] [Info] Start training from score -0.000000\n",
      "[LightGBM] [Info] Number of positive: 15901, number of negative: 180906\n",
      "[LightGBM] [Info] Auto-choosing col-wise multi-threading, the overhead of testing was 1.248715 seconds.\n",
      "You can set `force_col_wise=true` to remove the overhead.\n",
      "[LightGBM] [Info] Total Bins 125890\n",
      "[LightGBM] [Info] Number of data points in the train set: 196807, number of used features: 578\n",
      "[LightGBM] [Info] [binary:BoostFromScore]: pavg=0.500000 -> initscore=-0.000000\n",
      "[LightGBM] [Info] Start training from score -0.000000\n",
      "[LightGBM] [Info] Number of positive: 15901, number of negative: 180906\n",
      "[LightGBM] [Info] Auto-choosing col-wise multi-threading, the overhead of testing was 1.202249 seconds.\n",
      "You can set `force_col_wise=true` to remove the overhead.\n",
      "[LightGBM] [Info] Total Bins 125996\n",
      "[LightGBM] [Info] Number of data points in the train set: 196807, number of used features: 578\n",
      "[LightGBM] [Info] [binary:BoostFromScore]: pavg=0.500000 -> initscore=-0.000000\n",
      "[LightGBM] [Info] Start training from score -0.000000\n",
      "[LightGBM] [Info] Number of positive: 15901, number of negative: 180905\n",
      "[LightGBM] [Info] Auto-choosing col-wise multi-threading, the overhead of testing was 1.163881 seconds.\n",
      "You can set `force_col_wise=true` to remove the overhead.\n",
      "[LightGBM] [Info] Total Bins 125958\n",
      "[LightGBM] [Info] Number of data points in the train set: 196806, number of used features: 578\n",
      "[LightGBM] [Info] [binary:BoostFromScore]: pavg=0.500000 -> initscore=0.000000\n",
      "[LightGBM] [Info] Start training from score 0.000000\n",
      "[LightGBM] [Info] Number of positive: 15901, number of negative: 180905\n",
      "[LightGBM] [Info] Auto-choosing col-wise multi-threading, the overhead of testing was 1.112327 seconds.\n",
      "You can set `force_col_wise=true` to remove the overhead.\n",
      "[LightGBM] [Info] Total Bins 125819\n",
      "[LightGBM] [Info] Number of data points in the train set: 196806, number of used features: 578\n",
      "[LightGBM] [Info] [binary:BoostFromScore]: pavg=0.500000 -> initscore=0.000000\n",
      "[LightGBM] [Info] Start training from score 0.000000\n",
      "[LightGBM] [Info] Number of positive: 15900, number of negative: 180906\n",
      "[LightGBM] [Info] Auto-choosing col-wise multi-threading, the overhead of testing was 1.238062 seconds.\n",
      "You can set `force_col_wise=true` to remove the overhead.\n",
      "[LightGBM] [Info] Total Bins 125921\n",
      "[LightGBM] [Info] Number of data points in the train set: 196806, number of used features: 578\n",
      "[LightGBM] [Info] [binary:BoostFromScore]: pavg=0.500000 -> initscore=-0.000000\n",
      "[LightGBM] [Info] Start training from score -0.000000\n",
      "[LightGBM] [Info] Number of positive: 15901, number of negative: 180906\n",
      "[LightGBM] [Info] Auto-choosing col-wise multi-threading, the overhead of testing was 1.266154 seconds.\n",
      "You can set `force_col_wise=true` to remove the overhead.\n",
      "[LightGBM] [Info] Total Bins 125890\n",
      "[LightGBM] [Info] Number of data points in the train set: 196807, number of used features: 578\n",
      "[LightGBM] [Info] [binary:BoostFromScore]: pavg=0.500000 -> initscore=-0.000000\n",
      "[LightGBM] [Info] Start training from score -0.000000\n",
      "[LightGBM] [Info] Number of positive: 15901, number of negative: 180906\n",
      "[LightGBM] [Info] Auto-choosing col-wise multi-threading, the overhead of testing was 1.230613 seconds.\n",
      "You can set `force_col_wise=true` to remove the overhead.\n",
      "[LightGBM] [Info] Total Bins 125996\n",
      "[LightGBM] [Info] Number of data points in the train set: 196807, number of used features: 578\n",
      "[LightGBM] [Info] [binary:BoostFromScore]: pavg=0.500000 -> initscore=-0.000000\n",
      "[LightGBM] [Info] Start training from score -0.000000\n",
      "[LightGBM] [Info] Number of positive: 15901, number of negative: 180905\n",
      "[LightGBM] [Info] Auto-choosing col-wise multi-threading, the overhead of testing was 1.167051 seconds.\n",
      "You can set `force_col_wise=true` to remove the overhead.\n",
      "[LightGBM] [Info] Total Bins 125958\n",
      "[LightGBM] [Info] Number of data points in the train set: 196806, number of used features: 578\n",
      "[LightGBM] [Info] [binary:BoostFromScore]: pavg=0.500000 -> initscore=0.000000\n",
      "[LightGBM] [Info] Start training from score 0.000000\n",
      "[LightGBM] [Info] Number of positive: 15901, number of negative: 180905\n",
      "[LightGBM] [Info] Auto-choosing col-wise multi-threading, the overhead of testing was 1.188105 seconds.\n",
      "You can set `force_col_wise=true` to remove the overhead.\n",
      "[LightGBM] [Info] Total Bins 125819\n",
      "[LightGBM] [Info] Number of data points in the train set: 196806, number of used features: 578\n",
      "[LightGBM] [Info] [binary:BoostFromScore]: pavg=0.500000 -> initscore=0.000000\n",
      "[LightGBM] [Info] Start training from score 0.000000\n",
      "[LightGBM] [Info] Number of positive: 15900, number of negative: 180906\n",
      "[LightGBM] [Info] Auto-choosing col-wise multi-threading, the overhead of testing was 1.223163 seconds.\n",
      "You can set `force_col_wise=true` to remove the overhead.\n",
      "[LightGBM] [Info] Total Bins 125921\n",
      "[LightGBM] [Info] Number of data points in the train set: 196806, number of used features: 578\n",
      "[LightGBM] [Info] [binary:BoostFromScore]: pavg=0.500000 -> initscore=-0.000000\n",
      "[LightGBM] [Info] Start training from score -0.000000\n",
      "[LightGBM] [Info] Number of positive: 15901, number of negative: 180906\n",
      "[LightGBM] [Info] Auto-choosing col-wise multi-threading, the overhead of testing was 1.145766 seconds.\n",
      "You can set `force_col_wise=true` to remove the overhead.\n",
      "[LightGBM] [Info] Total Bins 125890\n",
      "[LightGBM] [Info] Number of data points in the train set: 196807, number of used features: 578\n",
      "[LightGBM] [Info] [binary:BoostFromScore]: pavg=0.500000 -> initscore=-0.000000\n",
      "[LightGBM] [Info] Start training from score -0.000000\n",
      "[LightGBM] [Info] Number of positive: 15901, number of negative: 180906\n",
      "[LightGBM] [Info] Auto-choosing col-wise multi-threading, the overhead of testing was 1.176561 seconds.\n",
      "You can set `force_col_wise=true` to remove the overhead.\n",
      "[LightGBM] [Info] Total Bins 125996\n",
      "[LightGBM] [Info] Number of data points in the train set: 196807, number of used features: 578\n",
      "[LightGBM] [Info] [binary:BoostFromScore]: pavg=0.500000 -> initscore=-0.000000\n",
      "[LightGBM] [Info] Start training from score -0.000000\n",
      "[LightGBM] [Info] Number of positive: 19876, number of negative: 226132\n",
      "[LightGBM] [Info] Auto-choosing col-wise multi-threading, the overhead of testing was 1.438076 seconds.\n",
      "You can set `force_col_wise=true` to remove the overhead.\n",
      "[LightGBM] [Info] Total Bins 125858\n",
      "[LightGBM] [Info] Number of data points in the train set: 246008, number of used features: 578\n",
      "[LightGBM] [Info] [binary:BoostFromScore]: pavg=0.500000 -> initscore=0.000000\n",
      "[LightGBM] [Info] Start training from score 0.000000\n"
     ]
    },
    {
     "data": {
      "text/plain": [
       "GridSearchCV(estimator=LGBMClassifier(),\n",
       "             param_grid={'class_weight': ['balanced'], 'learning_rate': [0.05],\n",
       "                         'max_depth': [5, 10], 'n_estimators': [500, 1000],\n",
       "                         'n_jobs': [8], 'num_leaves': [5, 11]})"
      ]
     },
     "execution_count": 34,
     "metadata": {},
     "output_type": "execute_result"
    }
   ],
   "source": [
    "from sklearn.model_selection import GridSearchCV\n",
    "\n",
    "params = {'n_estimators':[500, 1000]\n",
    "         ,'num_leaves': [5, 11]\n",
    "         ,'max_depth':[5, 10]\n",
    "         ,'learning_rate':[0.05]\n",
    "         ,'n_jobs':[8]\n",
    "         ,'class_weight':['balanced']}\n",
    "\n",
    "lgb = LGBMClassifier()\n",
    "grid_search = GridSearchCV(lgb, params)\n",
    "\n",
    "grid_search.fit(X_train[feacols2], y_train)"
   ]
  },
  {
   "cell_type": "code",
   "execution_count": 35,
   "metadata": {},
   "outputs": [
    {
     "name": "stdout",
     "output_type": "stream",
     "text": [
      "Best parameters:  {'class_weight': 'balanced', 'learning_rate': 0.05, 'max_depth': 10, 'n_estimators': 1000, 'n_jobs': 8, 'num_leaves': 11}\n",
      "Best score:  0.7468618950734365\n"
     ]
    }
   ],
   "source": [
    "print(\"Best parameters: \", grid_search.best_params_)\n",
    "print(\"Best score: \", grid_search.best_score_)"
   ]
  },
  {
   "cell_type": "code",
   "execution_count": null,
   "metadata": {},
   "outputs": [],
   "source": []
  },
  {
   "cell_type": "code",
   "execution_count": null,
   "metadata": {},
   "outputs": [],
   "source": []
  },
  {
   "cell_type": "code",
   "execution_count": null,
   "metadata": {},
   "outputs": [],
   "source": []
  },
  {
   "cell_type": "code",
   "execution_count": 36,
   "metadata": {},
   "outputs": [
    {
     "data": {
      "text/plain": [
       "578"
      ]
     },
     "execution_count": 36,
     "metadata": {},
     "output_type": "execute_result"
    }
   ],
   "source": [
    "import joblib\n",
    "feacols2 = joblib.load(\"./feacols2.pkl\")\n",
    "len(feacols2)"
   ]
  },
  {
   "cell_type": "code",
   "execution_count": 37,
   "metadata": {},
   "outputs": [
    {
     "name": "stdout",
     "output_type": "stream",
     "text": [
      "[LightGBM] [Info] Number of positive: 19876, number of negative: 226132\n",
      "[LightGBM] [Info] Auto-choosing col-wise multi-threading, the overhead of testing was 1.624451 seconds.\n",
      "You can set `force_col_wise=true` to remove the overhead.\n",
      "[LightGBM] [Info] Total Bins 125858\n",
      "[LightGBM] [Info] Number of data points in the train set: 246008, number of used features: 578\n",
      "[LightGBM] [Info] [binary:BoostFromScore]: pavg=0.500000 -> initscore=0.000000\n",
      "[LightGBM] [Info] Start training from score 0.000000\n"
     ]
    },
    {
     "data": {
      "text/plain": [
       "LGBMClassifier(class_weight='balanced', learning_rate=0.05, max_depth=10,\n",
       "               n_estimators=1000, n_jobs=8, num_leaves=11)"
      ]
     },
     "execution_count": 37,
     "metadata": {},
     "output_type": "execute_result"
    }
   ],
   "source": [
    "from lightgbm import LGBMClassifier\n",
    "\n",
    "params = {'learning_rate': 0.05\n",
    "          ,'max_depth': 10\n",
    "          ,'n_estimators': 1000\n",
    "          ,'n_jobs': 8\n",
    "          ,'num_leaves': 11\n",
    "          ,'class_weight':'balanced'}\n",
    "lgb = LGBMClassifier(**params)\n",
    "lgb.fit(X_train[feacols2], y_train, eval_metric=['rmse', 'mae'], eval_set=[(X_train[feacols2], y_train), (X_test[feacols2], y_test)])"
   ]
  },
  {
   "cell_type": "markdown",
   "metadata": {},
   "source": [
    "#### model evaluation"
   ]
  },
  {
   "cell_type": "code",
   "execution_count": 44,
   "metadata": {},
   "outputs": [
    {
     "data": {
      "image/png": "[encoded data removed]",
      "text/plain": [
       "<Figure size 432x288 with 1 Axes>"
      ]
     },
     "metadata": {
      "needs_background": "light"
     },
     "output_type": "display_data"
    },
    {
     "data": {
      "image/png": "[encoded data removed]",
      "text/plain": [
       "<Figure size 432x288 with 1 Axes>"
      ]
     },
     "metadata": {
      "needs_background": "light"
     },
     "output_type": "display_data"
    }
   ],
   "source": [
    "from sklearn.metrics import roc_curve, auc\n",
    "from sklearn.model_selection import train_test_split\n",
    "\n",
    "y_pred = lgb.predict_proba(X_dev[feacols2])[:, -1]\n",
    "\n",
    "fpr, tpr, thresholds = roc_curve(y_dev, y_pred)\n",
    "\n",
    "#Calculate ROC and plot the curve\n",
    "rocauc = auc(fpr, tpr)\n",
    "plt.plot(fpr, tpr, 'b', label='AUC = %0.2f' % rocauc)\n",
    "plt.legend(loc='lower right')\n",
    "plt.plot([0, 1], [0, 1], 'r--')\n",
    "plt.xlim([0, 1])\n",
    "plt.ylim([0, 1])\n",
    "plt.ylabel('true rate')\n",
    "plt.xlabel('false rate')\n",
    "plt.show()\n",
    "    \n",
    "ks_value = max(abs(fpr-tpr))\n",
    "#ROC curve\n",
    "plt.plot(fpr, tpr)\n",
    "plt.plot([0,1], [0,1], linestyle='--')\n",
    "#plot KS\n",
    "x = np.argwhere(abs(fpr-tpr) == ks_value)[0, 0]\n",
    "plt.plot([fpr[x], fpr[x]], [fpr[x], tpr[x]], linewidth=4, color='r')\n",
    "plt.text(fpr[x]+0.01,tpr[x]-0.2, 'ks='+str(format(ks_value,'0.3f')),color= 'black')\n",
    "plt.xlabel('False positive', fontsize=20)\n",
    "plt.ylabel('True positive', fontsize=20)\n",
    "plt.show()"
   ]
  },
  {
   "cell_type": "code",
   "execution_count": 45,
   "metadata": {},
   "outputs": [
    {
     "name": "stdout",
     "output_type": "stream",
     "text": [
      "confusion matrix:\n",
      "[[106412  34912]\n",
      " [  3332   9100]]\n",
      "f1-score: 0.32\n",
      "f_beta-score(beta=2): 0.49\n"
     ]
    }
   ],
   "source": [
    "from sklearn.metrics import confusion_matrix, f1_score, fbeta_score\n",
    "import seaborn as sns\n",
    "print('confusion matrix:')\n",
    "print(confusion_matrix(y_dev, lgb.predict(X_dev[feacols2])))\n",
    "print(\"f1-score: {:.2f}\".format(f1_score(y_dev, lgb.predict(X_dev[feacols2]))))\n",
    "print(\"f_beta-score(beta=2): {:.2f}\".format(fbeta_score(y_dev, lgb.predict(X_dev[feacols2]), beta=2)))"
   ]
  },
  {
   "cell_type": "code",
   "execution_count": 46,
   "metadata": {},
   "outputs": [
    {
     "data": {
      "text/plain": [
       "<AxesSubplot:ylabel='feature name'>"
      ]
     },
     "execution_count": 46,
     "metadata": {},
     "output_type": "execute_result"
    },
    {
     "data": {
      "image/png": "[encoded data removed]",
      "text/plain": [
       "<Figure size 360x432 with 1 Axes>"
      ]
     },
     "metadata": {
      "needs_background": "light"
     },
     "output_type": "display_data"
    }
   ],
   "source": [
    "df = pd.DataFrame()\n",
    "df['feature name'] = lgb.feature_name_\n",
    "df['importance'] = lgb.feature_importances_\n",
    "df = df.sort_values('importance')\n",
    "df.tail(20).plot.barh(x = 'feature name',figsize=(5,6))"
   ]
  },
  {
   "cell_type": "markdown",
   "metadata": {},
   "source": [
    "#### save model.."
   ]
  },
  {
   "cell_type": "code",
   "execution_count": 47,
   "metadata": {},
   "outputs": [
    {
     "data": {
      "text/plain": [
       "['./lgb.pkl']"
      ]
     },
     "execution_count": 47,
     "metadata": {},
     "output_type": "execute_result"
    }
   ],
   "source": [
    "import joblib\n",
    "joblib.dump(lgb, \"./lgb.pkl\")"
   ]
  },
  {
   "cell_type": "markdown",
   "metadata": {},
   "source": [
    "### predict\n"
   ]
  },
  {
   "cell_type": "code",
   "execution_count": 48,
   "metadata": {},
   "outputs": [
    {
     "name": "stderr",
     "output_type": "stream",
     "text": [
      "C:\\Users\\82438\\AppData\\Roaming\\Python\\Python37\\site-packages\\ipykernel_launcher.py:1: SettingWithCopyWarning: \n",
      "A value is trying to be set on a copy of a slice from a DataFrame.\n",
      "Try using .loc[row_indexer,col_indexer] = value instead\n",
      "\n",
      "See the caveats in the documentation: https://pandas.pydata.org/pandas-docs/stable/user_guide/indexing.html#returning-a-view-versus-a-copy\n",
      "  \"\"\"Entry point for launching an IPython kernel.\n"
     ]
    }
   ],
   "source": [
    "test['TARGET'] = lgb.predict(test[feacols2])"
   ]
  },
  {
   "cell_type": "code",
   "execution_count": 49,
   "metadata": {},
   "outputs": [],
   "source": [
    "test[['SK_ID_CURR', 'TARGET']].to_csv(\"./submission.csv\", index=False, sep=',')"
   ]
  },
  {
   "cell_type": "markdown",
   "metadata": {},
   "source": [
    "#### Finally Put in kaggle result of 0.69329"
   ]
  },
  {
   "cell_type": "markdown",
   "metadata": {},
   "source": []
  },
  {
   "cell_type": "markdown",
   "metadata": {},
   "source": []
  }
 ],
 "metadata": {
  "kernelspec": {
   "display_name": "Python 3 (ipykernel)",
   "language": "python",
   "name": "python3"
  },
  "language_info": {
   "codemirror_mode": {
    "name": "ipython",
    "version": 3
   },
   "file_extension": ".py",
   "mimetype": "text/x-python",
   "name": "python",
   "nbconvert_exporter": "python",
   "pygments_lexer": "ipython3",
   "version": "3.11.4"
  },
  "vscode": {
   "interpreter": {
    "hash": "ad2bdc8ecc057115af97d19610ffacc2b4e99fae6737bb82f5d7fb13d2f2c186"
   }
  }
 },
 "nbformat": 4,
 "nbformat_minor": 4
}
